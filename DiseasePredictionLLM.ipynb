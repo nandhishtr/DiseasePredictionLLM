{
  "nbformat": 4,
  "nbformat_minor": 0,
  "metadata": {
    "colab": {
      "provenance": [],
      "gpuType": "T4"
    },
    "kernelspec": {
      "name": "python3",
      "display_name": "Python 3"
    },
    "language_info": {
      "name": "python"
    },
    "accelerator": "GPU"
  },
  "cells": [
    {
      "cell_type": "code",
      "execution_count": null,
      "metadata": {
        "id": "Ua7aH6iyJCut"
      },
      "outputs": [],
      "source": [
        "!pip install langchain\n",
        "!pip install langchain_community\n",
        "!pip install sentence_transformers\n",
        "!pip install unstructured\n",
        "!pip install unstructured[pdf]\n",
        "!pip install llama-cpp-python\n",
        "!pip -q install peft chromadb\n",
        "!pip install ctransformers"
      ]
    },
    {
      "cell_type": "code",
      "source": [
        "!wget -O BioMistral-7B.Q5_K_M.gguf https://huggingface.co/MaziyarPanahi/BioMistral-7B-GGUF/resolve/main/BioMistral-7B.Q5_K_M.gguf?download=true"
      ],
      "metadata": {
        "id": "6oIy1jfTaqAw"
      },
      "execution_count": null,
      "outputs": []
    },
    {
      "cell_type": "code",
      "source": [
        "!wget https://github.com/nandhishtr/DiseasePredictionLLM/archive/refs/heads/main.zip"
      ],
      "metadata": {
        "id": "xnkJHsA0C875"
      },
      "execution_count": null,
      "outputs": []
    },
    {
      "cell_type": "code",
      "source": [
        "!unzip main.zip"
      ],
      "metadata": {
        "id": "NSLEOxjdDswa"
      },
      "execution_count": null,
      "outputs": []
    },
    {
      "cell_type": "code",
      "source": [
        "import os\n",
        "from langchain_community.embeddings import SentenceTransformerEmbeddings\n",
        "from langchain_community.document_loaders import UnstructuredFileLoader, DirectoryLoader\n",
        "from langchain.text_splitter import RecursiveCharacterTextSplitter\n",
        "# from langchain.vectorstores import Chroma\n",
        "from langchain_community.vectorstores import Chroma\n",
        "from langchain_community.document_loaders import TextLoader\n",
        "from langchain_community.llms import LlamaCpp\n",
        "from langchain.chains import ConversationalRetrievalChain\n",
        "from langchain.memory import ConversationBufferMemory, ConversationBufferWindowMemory\n",
        "from langchain.prompts import PromptTemplate\n",
        "from langchain_community.llms import CTransformers\n",
        "from langchain.chains import RetrievalQA\n",
        "from langchain.prompts.few_shot import FewShotPromptTemplate\n",
        "\n",
        "# initializes an embeddings model\n",
        "embeddings = SentenceTransformerEmbeddings(model_name=\"NeuML/pubmedbert-base-embeddings\")\n",
        "\n",
        "print(embeddings)\n",
        "\n",
        "# loader = TextLoader(\"health_report.txt\")\n",
        "loader = DirectoryLoader(\"/content/DiseasePredictionLLM-main/dataset_folder\", glob=\"**/*.txt\", show_progress=True)\n",
        "\n",
        "docs = loader.load()\n",
        "\n",
        "print(len(docs), \"*******************\")\n",
        "\n",
        "text_splitter = RecursiveCharacterTextSplitter(chunk_size=700, chunk_overlap=70)\n",
        "\n",
        "pages = loader.load_and_split(text_splitter)\n",
        "\n",
        "db = Chroma.from_documents(pages, embeddings, persist_directory='/content/db')\n",
        "\n",
        "llm = CTransformers(model=\"MaziyarPanahi/BioMistral-7B-GGUF\", model_file=\"BioMistral-7B.Q8_0.gguf\", temperature=0.7,\n",
        "                    max_tokens=2048, top_p=1, n_ctx=2048, config={'context_length': 1024})\n"
      ],
      "metadata": {
        "id": "xjj4CCuJ9axr"
      },
      "execution_count": null,
      "outputs": []
    },
    {
      "cell_type": "code",
      "source": [
        "prompt_template = \"\"\"Use the following pieces of information to answer the user's question.\n",
        "If you don't know the answer, just say that you don't know, don't try to make up an answer.\n",
        "\n",
        "Please refer to the below examples to answer user query:\n",
        "\n",
        "Example 1 :\n",
        "\n",
        "question : Hello, there is a pain around the navel, I don’t know what's going on (female, 29 years old).. How long are you facing this? It has been there for three days.. Do you have any other symptoms? No symptoms. Have you used any medication? No.  Can you diagnose and recommend some precautionary measures?\n",
        "answer : The pain in the navel area could be related to gastric dysfunction. Gastric dysfunction is a common symptom, which can be caused by food digestion problems. The symptoms of gastric dysfunction include abdominal pain, loss of appetite, loose stools or constipation, diarrhea, bloating, etc. In this case, it's best to drink enough water and eat light food. It is recommended not to drink tea in hot condition as well as avoid drinking soda. You should also limit the consumption of spicy food and alcoholic beverages.\n",
        "\n",
        "Example 2 :\n",
        "\n",
        "question : Hello, I have continuous head ache. How long are you facing this ? It has been there for over a week. Do you have any other symptoms? I have runny nose and cold. Have you used any medication? I have taken paracetamol. Can you diagnose and recommend some precautionary measures?\n",
        "answer : Headache may have different causes and this one lasts for a week, so it is advisable to checkup for brain CT or MRI and in some cases do a lumbar puncture as well as blood tests.\n",
        "\n",
        "Only return the helpful answer. Answer must be detailed and well explained.\n",
        "\n",
        "Context: {context}\n",
        "Question: {question}\n",
        "\n",
        "\n",
        "Helpful answer:\n",
        "\"\"\"\n",
        "retriever = db.as_retriever(search_kwargs={\"k\": 1})\n",
        "prompt = PromptTemplate(input_variables=['context', 'question'], template=prompt_template)\n",
        "\n",
        "if llm is not None and db is not None:\n",
        "  qa_chain = RetrievalQA.from_chain_type(\n",
        "    llm, retriever=retriever, chain_type_kwargs={\"prompt\": prompt})\n",
        "else:\n",
        "    print(\"LLM or Vector Database not initialized\")\n",
        "\n",
        "\n",
        "\n",
        "print(\"Bot: Hello There, Welcome! I am a disease prediction bot, here to help you.\\n\"\n",
        "      \"Caution: I am only suggesting based on my current knowledge. In no way it is an alternative to consulting a doctor.\")\n",
        "\n",
        "# Define questions\n",
        "questions = [\n",
        "    \"How may I help you today?\",\n",
        "    \"How long are you facing this?\",\n",
        "    \"Do you have any other symptoms?\",\n",
        "    \"Have you used any medication?\"\n",
        "]\n",
        "\n",
        "# Initialize total_input\n",
        "print(\"Bot:\", questions[0])\n",
        "total_input = input(\"User: \") + \". \"\n",
        "\n",
        "# Loop through questions\n",
        "for question in questions[1:]:\n",
        "    print(\"Bot:\", question)\n",
        "    user_input = input(\"User: \")\n",
        "    total_input += question + \" \" + user_input + \". \"  # Concatenate user input with a period and space\n",
        "\n",
        "main_question = \"Can you diagnose and recommend some precautionary measures?\"\n",
        "\n",
        "final_question = total_input + \" \" + main_question\n",
        "print(final_question)\n",
        "\n",
        "result = qa_chain.invoke({\"query\": final_question})\n",
        "print(\"Bot:\", result[\"result\"])\n",
        "\n",
        "# # Ask if the user is satisfied\n",
        "user_input = input(\"Bot: Are you satisfied with my answer? (Yes/No): \")\n",
        "\n",
        "# If not satisfied, ask for additional information\n",
        "if user_input.lower() == \"no\":\n",
        "    print(\"Bot: Please provide me with some additional information to predict better.\")\n",
        "    additional_info = input(\"User: \")\n",
        "    final_question += \". Additional information: \" + additional_info + \" \" + main_question\n",
        "    result = qa_chain.invoke({\"query\": final_question})\n",
        "    print(\"Bot:\", result[\"result\"])\n",
        "\n",
        "print(\"Bot: Thank you! Get well soon :)\")"
      ],
      "metadata": {
        "colab": {
          "base_uri": "https://localhost:8080/"
        },
        "id": "0ni9wK0Pa5co",
        "outputId": "dd2ccda8-6000-4240-e8c5-f259880cc5b6"
      },
      "execution_count": 7,
      "outputs": [
        {
          "output_type": "stream",
          "name": "stdout",
          "text": [
            "Bot: Hello There, Welcome! I am a disease prediction bot, here to help you.\n",
            "Caution: I am only suggesting based on my current knowledge. In no way it is an alternative to consulting a doctor.\n",
            "Bot: How may I help you today?\n",
            "User: I am having pain around my navel\n",
            "Bot: How long are you facing this?\n",
            "User: for about a week\n",
            "Bot: Do you have any other symptoms?\n",
            "User: no other symptoms\n",
            "Bot: Have you used any medication?\n",
            "User: no\n",
            "I am having pain around my navel. How long are you facing this? for about a week. Do you have any other symptoms? no other symptoms. Have you used any medication? no.  Can you diagnose and recommend some precautionary measures?\n",
            "Bot: This type of pain is not common, especially in women. It may be caused by gastric dysfunction, which can occur due to food digestion problems. The symptoms of gastric dysfunction include abdominal pain, loss of appetite, loose stools or constipation, diarrhea, bloating, etc. In this case, it's best to drink enough water and eat light food. It is recommended not to drink tea in hot condition as well as avoid drinking soda. You should also limit the consumption of spicy food and alcoholic beverages.\n",
            "Bot: Thank you! Get well soon :)\n"
          ]
        }
      ]
    }
  ]
}